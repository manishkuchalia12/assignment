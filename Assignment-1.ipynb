{
 "cells": [
  {
   "cell_type": "markdown",
   "id": "8a77cad6-f973-49da-b687-c426e4cc20d7",
   "metadata": {},
   "source": [
    "Q1. Create one variable containing following type of data:\n",
    "(i) string\n",
    "(ii) list\n",
    "(iii) float\n",
    "(iv) tuple"
   ]
  },
  {
   "cell_type": "markdown",
   "id": "b8ca9530-4a84-4a03-887f-517c310fc7e2",
   "metadata": {},
   "source": [
    "(i) string\n"
   ]
  },
  {
   "cell_type": "code",
   "execution_count": 1,
   "id": "39dc475d-a40b-4f03-a55f-26c8cc72b1ae",
   "metadata": {},
   "outputs": [],
   "source": [
    "my_str=\"Manish Kuchalia\""
   ]
  },
  {
   "cell_type": "markdown",
   "id": "dc123b2e-57ad-4424-b0f7-e3592560a1f9",
   "metadata": {},
   "source": [
    "(ii) list"
   ]
  },
  {
   "cell_type": "code",
   "execution_count": 3,
   "id": "2c30546a-679e-46f1-8524-795343210d51",
   "metadata": {},
   "outputs": [],
   "source": [
    "list=[1,23.5,\"mani\",True,2+4J]"
   ]
  },
  {
   "cell_type": "code",
   "execution_count": 4,
   "id": "7e72b13c-8b36-454e-b4a0-d41d31d0507b",
   "metadata": {},
   "outputs": [
    {
     "data": {
      "text/plain": [
       "[1, 23.5, 'mani', True, (2+4j)]"
      ]
     },
     "execution_count": 4,
     "metadata": {},
     "output_type": "execute_result"
    }
   ],
   "source": [
    "list"
   ]
  },
  {
   "cell_type": "markdown",
   "id": "1d9b781c-1381-42c7-84d4-0c2fbb7c081d",
   "metadata": {},
   "source": [
    "(iii) float"
   ]
  },
  {
   "cell_type": "code",
   "execution_count": 5,
   "id": "f1a4d776-c73e-4040-86ae-34ec86fe291d",
   "metadata": {},
   "outputs": [],
   "source": [
    "f=23.4"
   ]
  },
  {
   "cell_type": "code",
   "execution_count": 6,
   "id": "bb947bdf-6b3f-4494-86fb-5e003fa58338",
   "metadata": {},
   "outputs": [
    {
     "data": {
      "text/plain": [
       "23.4"
      ]
     },
     "execution_count": 6,
     "metadata": {},
     "output_type": "execute_result"
    }
   ],
   "source": [
    "f"
   ]
  },
  {
   "cell_type": "markdown",
   "id": "277b6faa-3019-4778-b624-ac6c03b0f7e6",
   "metadata": {},
   "source": [
    "(iv)tuple"
   ]
  },
  {
   "cell_type": "code",
   "execution_count": 8,
   "id": "eaaa83e6-eb84-42b5-a325-647d8e98669c",
   "metadata": {},
   "outputs": [],
   "source": [
    "t=(1,23.5,\"mani\",True,2+4J)"
   ]
  },
  {
   "cell_type": "code",
   "execution_count": 9,
   "id": "21f1ab88-adf1-40a9-aaba-097253c78a5c",
   "metadata": {},
   "outputs": [
    {
     "data": {
      "text/plain": [
       "(1, 23.5, 'mani', True, (2+4j))"
      ]
     },
     "execution_count": 9,
     "metadata": {},
     "output_type": "execute_result"
    }
   ],
   "source": [
    "t"
   ]
  },
  {
   "cell_type": "markdown",
   "id": "127f603d-e87b-4d4f-9f96-86a299a2c45c",
   "metadata": {},
   "source": [
    "Q2. Given are some following variables containing data:\n",
    "(i) var1 = ‘ ‘\n",
    "(ii) var2 = ‘[ DS , ML , Python]’\n",
    "(iii) var3 = [ ‘DS’ , ’ML’ , ‘Python’ ]\n",
    "(iv) var4 = 1."
   ]
  },
  {
   "cell_type": "markdown",
   "id": "c413c10f-d4f1-49d4-9bef-3a721d98eca9",
   "metadata": {},
   "source": [
    "(i) var1 = ‘ ‘\n",
    ":This is a string contaning a single space character\n",
    ":Data of var1 string"
   ]
  },
  {
   "cell_type": "markdown",
   "id": "a0b3b8d3-1083-46de-a8af-f2da6769f286",
   "metadata": {},
   "source": [
    "(ii) var2 = ‘[ DS , ML , Python]’ \n",
    ":This is a string containing a list\n",
    ":Data of var2 string"
   ]
  },
  {
   "cell_type": "markdown",
   "id": "750e18f8-9ebe-411d-9c06-5fa49b31c21a",
   "metadata": {},
   "source": [
    " (iii) var3 = [ ‘DS’ , ’ML’ , ‘Python’ ]\n",
    "    :var3 is a list of strings\n",
    "    :Data of var3 string\n",
    "    "
   ]
  },
  {
   "cell_type": "markdown",
   "id": "c6e68edd-c4d9-49d0-9d81-c7fa5f91f85f",
   "metadata": {},
   "source": [
    "(iv) var4 = 1\n",
    ":This is an integer\n"
   ]
  },
  {
   "cell_type": "markdown",
   "id": "3420f3be-d316-4534-9b4d-b6ee94dd26e7",
   "metadata": {},
   "source": [
    "Q3. Explain the use of the following operators using an example:\n",
    "(i) /\n",
    "(ii) %\n",
    "(iii) //\n",
    "(iv) **"
   ]
  },
  {
   "cell_type": "code",
   "execution_count": 2,
   "id": "96e90ebe-c78e-441e-8f8e-fc50b1b73631",
   "metadata": {},
   "outputs": [
    {
     "name": "stdout",
     "output_type": "stream",
     "text": [
      "5.0\n"
     ]
    }
   ],
   "source": [
    "\n",
    "#Division operator(/)\n",
    "a = 10\n",
    "b = 2\n",
    "result = a / b\n",
    "print(result) "
   ]
  },
  {
   "cell_type": "code",
   "execution_count": 4,
   "id": "fe4ef992-5497-413a-b3b0-f0b20762ebaa",
   "metadata": {},
   "outputs": [
    {
     "name": "stdout",
     "output_type": "stream",
     "text": [
      "1\n"
     ]
    }
   ],
   "source": [
    "#Module operator(%)\n",
    "a = 10\n",
    "b = 3\n",
    "result = a % b\n",
    "print(result)"
   ]
  },
  {
   "cell_type": "code",
   "execution_count": 5,
   "id": "4452564a-b43f-4bfa-ba73-e2192d10a4b3",
   "metadata": {},
   "outputs": [
    {
     "name": "stdout",
     "output_type": "stream",
     "text": [
      "3\n"
     ]
    }
   ],
   "source": [
    "#Floor Division Operator(//)\n",
    "a = 10\n",
    "b = 3\n",
    "result = a // b\n",
    "print(result)"
   ]
  },
  {
   "cell_type": "code",
   "execution_count": 6,
   "id": "a9ed0605-87d8-4c52-8e15-99872ef0e531",
   "metadata": {},
   "outputs": [
    {
     "name": "stdout",
     "output_type": "stream",
     "text": [
      "1000\n"
     ]
    }
   ],
   "source": [
    "#Exponentiation Operator(**)\n",
    "a = 10\n",
    "b = 3\n",
    "result = a**b\n",
    "print(result)"
   ]
  },
  {
   "cell_type": "markdown",
   "id": "8e1d48a7-e136-4bbb-abbf-24c3115e0eeb",
   "metadata": {},
   "source": [
    "Q4. Create a list of length 10 of your choice containing multiple types of data. Using for loop print the\n",
    "element and its data type.\n"
   ]
  },
  {
   "cell_type": "code",
   "execution_count": 10,
   "id": "8c0d40fd-8a21-4a3a-8b4f-170c4fbb4cb7",
   "metadata": {},
   "outputs": [
    {
     "name": "stdout",
     "output_type": "stream",
     "text": [
      "42\n",
      "Hello, World!\n",
      "3.14\n",
      "True\n",
      "[1, 2, 3]\n",
      "{'name': 'Andrew', 'age': 30}\n",
      "(4, 5)\n",
      "5.6\n",
      "False\n"
     ]
    }
   ],
   "source": [
    "list = [42, \"Hello, World!\", 3.14, True, [1, 2, 3], {\"name\": \"Andrew\", \"age\": 30}, (4, 5), 5.6, False]\n",
    "\n",
    "for element in list:\n",
    "    print(element)\n"
   ]
  },
  {
   "cell_type": "markdown",
   "id": "7c6b7028-5a58-4679-91a4-ec705e892ff5",
   "metadata": {},
   "source": [
    "Using a while loop, verify if the number A is purely divisible by number B and if so then how many\n",
    "times it can be divisible."
   ]
  },
  {
   "cell_type": "code",
   "execution_count": 2,
   "id": "1650ba66-79d8-4a31-943c-f8cbccfa73c6",
   "metadata": {},
   "outputs": [
    {
     "name": "stdout",
     "output_type": "stream",
     "text": [
      "0 is purely divisible by 6 4 times\n"
     ]
    }
   ],
   "source": [
    "A = 24 \n",
    "B = 6\n",
    "\n",
    "count = 0\n",
    "while A >= B:\n",
    "    A -= B\n",
    "    count += 1\n",
    "\n",
    "print(f\"{A} is purely divisible by {B} {count} times\")"
   ]
  },
  {
   "cell_type": "markdown",
   "id": "5e8f9f84-a8e0-4b26-8ccf-d53ad38c21df",
   "metadata": {},
   "source": [
    "Q6. Create a list containing 25 int type data. Using for loop and if-else condition print if the element is\n",
    "divisible by 3 or not."
   ]
  },
  {
   "cell_type": "code",
   "execution_count": 5,
   "id": "fdbbd0a2-6591-41ea-b6e5-f7df43f73910",
   "metadata": {},
   "outputs": [
    {
     "name": "stdout",
     "output_type": "stream",
     "text": [
      "12 is divisible by 3.\n",
      "7 is not divisible by 3.\n",
      "15 is divisible by 3.\n",
      "9 is divisible by 3.\n",
      "30 is divisible by 3.\n",
      "21 is divisible by 3.\n",
      "5 is not divisible by 3.\n",
      "18 is divisible by 3.\n",
      "27 is divisible by 3.\n",
      "36 is divisible by 3.\n"
     ]
    }
   ],
   "source": [
    "\n",
    "li = [12, 7, 15, 9, 30, 21, 5, 18, 27, 36]\n",
    "for element in li:\n",
    "    if element % 3 == 0:\n",
    "        print(f\"{element} is divisible by 3.\")\n",
    "    else:\n",
    "        print(f\"{element} is not divisible by 3.\")\n"
   ]
  },
  {
   "cell_type": "markdown",
   "id": "bb20c959-07ab-4b4e-9609-dbf27db4eab1",
   "metadata": {},
   "source": [
    "Q7. What do you understand about mutable and immutable data types? Give examples for both showing\n",
    "this property."
   ]
  },
  {
   "cell_type": "code",
   "execution_count": 7,
   "id": "86c0ddc4-3b91-420a-8239-4612d634c2f8",
   "metadata": {},
   "outputs": [],
   "source": [
    "\n",
    "#Immutable data types are those whose values cannot be modified after they are created. If you want to change the value of an immutable data type, you create a new object\n",
    "\n",
    "x = 5  \n",
    "y = 3.14 \n",
    "str1 = \"Hello\"\n",
    "tup = (1, 2, 3) |\n"
   ]
  },
  {
   "cell_type": "code",
   "execution_count": null,
   "id": "90d67056-3911-4654-a8f8-21a089ad2001",
   "metadata": {},
   "outputs": [],
   "source": [
    "#Mutable data types are those whose values can be modified after creation. When you modify a mutable data type, \n",
    "you are changing the content of the same object rather than creating a new one."
   ]
  }
 ],
 "metadata": {
  "kernelspec": {
   "display_name": "Python 3 (ipykernel)",
   "language": "python",
   "name": "python3"
  },
  "language_info": {
   "codemirror_mode": {
    "name": "ipython",
    "version": 3
   },
   "file_extension": ".py",
   "mimetype": "text/x-python",
   "name": "python",
   "nbconvert_exporter": "python",
   "pygments_lexer": "ipython3",
   "version": "3.10.8"
  }
 },
 "nbformat": 4,
 "nbformat_minor": 5
}
